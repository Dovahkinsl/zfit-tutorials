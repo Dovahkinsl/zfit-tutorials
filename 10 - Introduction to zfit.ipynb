{
 "cells": [
  {
   "cell_type": "markdown",
   "metadata": {
    "inputHidden": false,
    "outputHidden": false
   },
   "source": [
    "# zfit — A simple introduction\n",
    "\n",
    "In this quick tutorial, we'll show the basic ideas on what you can do with `zfit`, without going into much detail or performing advanced tasks.\n",
    "\n",
    "First, we will perform the basic imports that we will use along most of the tutorials, and we'll check the `tensorflow` version.\n",
    "\n"
   ]
  },
  {
   "cell_type": "code",
   "execution_count": 1,
   "metadata": {},
   "outputs": [
    {
     "name": "stdout",
     "output_type": "stream",
     "text": [
      "TensorFlow version: 1.13.1\n"
     ]
    }
   ],
   "source": [
    "import numpy as np\n",
    "import tensorflow as tf\n",
    "\n",
    "import zfit\n",
    "# Wrapper for some tensorflow functionality\n",
    "from zfit import ztf\n",
    "print(\"TensorFlow version:\", tf.__version__)"
   ]
  },
  {
   "cell_type": "markdown",
   "metadata": {
    "inputHidden": false,
    "outputHidden": false
   },
   "source": [
    "## Create observables\n",
    "\n",
    "The observable space in which PDFs are defined is created with the `Space` class"
   ]
  },
  {
   "cell_type": "code",
   "execution_count": 2,
   "metadata": {
    "inputHidden": false,
    "outputHidden": false
   },
   "outputs": [],
   "source": [
    "obs = zfit.Space('x', limits=(-10, 10))"
   ]
  },
  {
   "cell_type": "markdown",
   "metadata": {
    "inputHidden": false,
    "outputHidden": false
   },
   "source": [
    "## Create data\n",
    "\n",
    "We create some data using `numpy`. Other constructors, e.g. for `ROOT` files are also available."
   ]
  },
  {
   "cell_type": "code",
   "execution_count": 3,
   "metadata": {
    "inputHidden": false,
    "outputHidden": false
   },
   "outputs": [],
   "source": [
    "mu_true = 0\n",
    "sigma_true = 1\n",
    "\n",
    "data_np = np.random.normal(mu_true, sigma_true, size=10000)\n",
    "data = zfit.data.Data.from_numpy(obs=obs, array=data_np)"
   ]
  },
  {
   "cell_type": "markdown",
   "metadata": {
    "inputHidden": false,
    "outputHidden": false
   },
   "source": [
    "## Create a PDF to fit\n",
    "\n",
    "Let's create a Gaussian PDF so we can fit the dataset. To do this, first we create the fit parameters, which follow a convention similar to `RooFit`:\n",
    "\n",
    "```\n",
    "zfit.Parameter(name, initial_value, lower_limit (optional), upper_limit (optional), other options)\n",
    "```"
   ]
  },
  {
   "cell_type": "code",
   "execution_count": 4,
   "metadata": {},
   "outputs": [
    {
     "name": "stdout",
     "output_type": "stream",
     "text": [
      "WARNING:tensorflow:From /home/jonas/anaconda3/envs/zfit36/lib/python3.6/site-packages/tensorflow/python/ops/resource_variable_ops.py:435: colocate_with (from tensorflow.python.framework.ops) is deprecated and will be removed in a future version.\n",
      "Instructions for updating:\n",
      "Colocations handled automatically by placer.\n"
     ]
    }
   ],
   "source": [
    "mu = zfit.Parameter(\"mu\", 2.4, -1., 5.)\n",
    "sigma = zfit.Parameter(\"sigma\", 1.3, 0, 5.)"
   ]
  },
  {
   "cell_type": "markdown",
   "metadata": {
    "inputHidden": false,
    "outputHidden": false
   },
   "source": [
    "Now we instantiate a Gaussian from the zfit PDF library (more on how to create your own PDFs later)"
   ]
  },
  {
   "cell_type": "code",
   "execution_count": 5,
   "metadata": {},
   "outputs": [],
   "source": [
    "gauss = zfit.pdf.Gauss(obs=obs, mu=mu, sigma=sigma)"
   ]
  },
  {
   "cell_type": "markdown",
   "metadata": {
    "inputHidden": false,
    "outputHidden": false
   },
   "source": [
    "This pdf contains several useful methods, such as calculating a probability, calculating its integral, sampling etc.\n",
    "\n",
    "**Note**: Several objects that are returned from methods, like `integrate`, return `tf.Tensor`, which are graphs that are not executed immediately, but need to be run *explicitely*:\n",
    "\n",
    "```python\n",
    "zfit.run(TensorFlow_object)\n",
    "```\n",
    "\n",
    "For more information, checkout the [Lazy evaluation and Graphs](https://github.com/zfit/zfit-tutorials/blob/master/Lazy%20Evaluation%20and%20Graphs.ipynb) tutorial."
   ]
  },
  {
   "cell_type": "code",
   "execution_count": 6,
   "metadata": {},
   "outputs": [
    {
     "name": "stdout",
     "output_type": "stream",
     "text": [
      "x values: [-1, 0, 1]\n",
      "result:   [0.01003756 0.05582994 0.17184119]\n"
     ]
    }
   ],
   "source": [
    "# Let's get some probabilities. Remember, the probs object is not executed yet\n",
    "consts = [-1, 0, 1]\n",
    "probs = gauss.pdf(ztf.constant(consts))\n",
    "# And now execute the tensorflow graph\n",
    "result = zfit.run(probs)\n",
    "print(\"x values: {}\\nresult:   {}\".format(consts, result))"
   ]
  },
  {
   "cell_type": "markdown",
   "metadata": {
    "inputHidden": false,
    "outputHidden": false
   },
   "source": [
    "## Fitting\n",
    "\n",
    "To fit, we need to take three steps: create the negative $\\log\\mathcal{L}$, instantiate a minimizer and then minimize the likelihood. "
   ]
  },
  {
   "cell_type": "code",
   "execution_count": 7,
   "metadata": {
    "inputHidden": false,
    "outputHidden": false
   },
   "outputs": [
    {
     "data": {
      "text/html": [
       "<hr>"
      ]
     },
     "metadata": {},
     "output_type": "display_data"
    },
    {
     "data": {
      "text/html": [
       "<table>\n",
       "    <tr>\n",
       "        <td title=\"Minimum value of function\">FCN = 14263.837531382726</td>\n",
       "        <td title=\"Total number of call to FCN so far\">TOTAL NCALL = 54</td>\n",
       "        <td title=\"Number of call in last migrad\">NCALLS = 54</td>\n",
       "    </tr>\n",
       "    <tr>\n",
       "        <td title=\"Estimated distance to minimum\">EDM = 1.0806842570716806e-05</td>\n",
       "        <td title=\"Maximum EDM definition of convergence\">GOAL EDM = 5e-06</td>\n",
       "        <td title=\"Error def. Amount of increase in FCN to be defined as 1 standard deviation\">\n",
       "        UP = 0.5</td>\n",
       "    </tr>\n",
       "</table>\n",
       "<table>\n",
       "    <tr>\n",
       "        <td align=\"center\" title=\"Validity of the migrad call\">Valid</td>\n",
       "        <td align=\"center\" title=\"Validity of parameters\">Valid Param</td>\n",
       "        <td align=\"center\" title=\"Is Covariance matrix accurate?\">Accurate Covar</td>\n",
       "        <td align=\"center\" title=\"Positive definiteness of covariance matrix\">PosDef</td>\n",
       "        <td align=\"center\" title=\"Was covariance matrix made posdef by adding diagonal element\">Made PosDef</td>\n",
       "    </tr>\n",
       "    <tr>\n",
       "        <td align=\"center\" style=\"background-color:#92CCA6\">True</td>\n",
       "        <td align=\"center\" style=\"background-color:#92CCA6\">True</td>\n",
       "        <td align=\"center\" style=\"background-color:#92CCA6\">True</td>\n",
       "        <td align=\"center\" style=\"background-color:#92CCA6\">True</td>\n",
       "        <td align=\"center\" style=\"background-color:#92CCA6\">False</td>\n",
       "    </tr>\n",
       "    <tr>\n",
       "        <td align=\"center\" title=\"Was last hesse call fail?\">Hesse Fail</td>\n",
       "        <td align=\"center\" title=\"Validity of covariance\">HasCov</td>\n",
       "        <td align=\"center\" title=\"Is EDM above goal EDM?\">Above EDM</td>\n",
       "        <td align=\"center\"></td>\n",
       "        <td align=\"center\" title=\"Did last migrad call reach max call limit?\">Reach calllim</td>\n",
       "    </tr>\n",
       "    <tr>\n",
       "        <td align=\"center\" style=\"background-color:#92CCA6\">False</td>\n",
       "        <td align=\"center\" style=\"background-color:#92CCA6\">True</td>\n",
       "        <td align=\"center\" style=\"background-color:#92CCA6\">False</td>\n",
       "        <td align=\"center\"></td>\n",
       "        <td align=\"center\" style=\"background-color:#92CCA6\">False</td>\n",
       "    </tr>\n",
       "</table>"
      ]
     },
     "metadata": {},
     "output_type": "display_data"
    },
    {
     "data": {
      "text/html": [
       "<table>\n",
       "    <tr>\n",
       "        <td><a href=\"#\" onclick=\"$('#NXhRPqAUWG').toggle()\">+</a></td>\n",
       "        <td title=\"Variable name\">Name</td>\n",
       "        <td title=\"Value of parameter\">Value</td>\n",
       "        <td title=\"Hesse error\">Hesse Error</td>\n",
       "        <td title=\"Minos lower error\">Minos Error-</td>\n",
       "        <td title=\"Minos upper error\">Minos Error+</td>\n",
       "        <td title=\"Lower limit of the parameter\">Limit-</td>\n",
       "        <td title=\"Upper limit of the parameter\">Limit+</td>\n",
       "        <td title=\"Is the parameter fixed in the fit\">Fixed?</td>\n",
       "    </tr>\n",
       "    <tr>\n",
       "        <td>0</td>\n",
       "        <td>mu</td>\n",
       "        <td>-0.00526104</td>\n",
       "        <td>0.0100745</td>\n",
       "        <td></td>\n",
       "        <td></td>\n",
       "        <td>-1</td>\n",
       "        <td>5</td>\n",
       "        <td>No</td>\n",
       "    </tr>\n",
       "    <tr>\n",
       "        <td>1</td>\n",
       "        <td>sigma</td>\n",
       "        <td>1.00745</td>\n",
       "        <td>0.00712346</td>\n",
       "        <td></td>\n",
       "        <td></td>\n",
       "        <td>0</td>\n",
       "        <td>5</td>\n",
       "        <td>No</td>\n",
       "    </tr>\n",
       "</table>\n",
       "<pre id=\"NXhRPqAUWG\" style=\"display:none;\">\n",
       "<textarea rows=\"10\" cols=\"50\" onclick=\"this.select()\" readonly>\n",
       "\\begin{tabular}{|c|r|r|r|r|r|r|r|c|}\n",
       "\\hline\n",
       " & Name & Value & Hesse Error & Minos Error- & Minos Error+ & Limit- & Limit+ & Fixed?\\\\\n",
       "\\hline\n",
       "0 & $\\mu$ & -0.00526104 & 0.0100745 &  &  & -1.0 & 5 & No\\\\\n",
       "\\hline\n",
       "1 & $\\sigma$ & 1.00745 & 0.00712346 &  &  & 0.0 & 5 & No\\\\\n",
       "\\hline\n",
       "\\end{tabular}\n",
       "</textarea>\n",
       "</pre>"
      ]
     },
     "metadata": {},
     "output_type": "display_data"
    },
    {
     "data": {
      "text/html": [
       "<hr>"
      ]
     },
     "metadata": {},
     "output_type": "display_data"
    },
    {
     "name": "stdout",
     "output_type": "stream",
     "text": [
      "mu=-0.005261041794923704\n",
      "sigma=1.007446357052209\n"
     ]
    }
   ],
   "source": [
    "# Create the negative log likelihood\n",
    "\n",
    "nll = zfit.loss.UnbinnedNLL(model=gauss, data=data)  # loss\n",
    "\n",
    "# Load and instantiate a minimizer\n",
    "minimizer = zfit.minimize.MinuitMinimizer()\n",
    "minimum = minimizer.minimize(loss=nll)\n",
    "\n",
    "# Get the fitted values, again by run the variable graphs\n",
    "params = minimum.params\n",
    "\n",
    "print(\"mu={}\".format(params[mu]['value']))\n",
    "print(\"sigma={}\".format(params[sigma]['value']))"
   ]
  },
  {
   "cell_type": "markdown",
   "metadata": {
    "inputHidden": false,
    "outputHidden": false
   },
   "source": [
    "And we can plot the result to see how it went."
   ]
  },
  {
   "cell_type": "code",
   "execution_count": 8,
   "metadata": {
    "inputHidden": false,
    "outputHidden": false
   },
   "outputs": [],
   "source": [
    "%matplotlib inline  "
   ]
  },
  {
   "cell_type": "code",
   "execution_count": 9,
   "metadata": {
    "inputHidden": false,
    "outputHidden": false
   },
   "outputs": [
    {
     "data": {
      "image/png": "[encoded data removed]",
      "text/plain": [
       "<Figure size 432x288 with 1 Axes>"
      ]
     },
     "metadata": {
      "needs_background": "light"
     },
     "output_type": "display_data"
    }
   ],
   "source": [
    "import matplotlib.pyplot as plt\n",
    "n_bins = 50\n",
    "range_ = (-5,5)\n",
    "_ = plt.hist(data_np, bins=n_bins, range=range_)\n",
    "x = np.linspace(*range_, num=1000)\n",
    "with gauss.set_norm_range(range_):\n",
    "    pdf = zfit.run(gauss.pdf(x))\n",
    "_ = plt.plot(x, data_np.shape[0] / n_bins * (range_[1] - range_[0]) * pdf)"
   ]
  },
  {
   "cell_type": "markdown",
   "metadata": {
    "inputHidden": false,
    "outputHidden": false
   },
   "source": [
    "Here, we can see the power of the context managers used to change the normalisation range."
   ]
  },
  {
   "cell_type": "code",
   "execution_count": 10,
   "metadata": {
    "inputHidden": false,
    "outputHidden": false
   },
   "outputs": [
    {
     "name": "stdout",
     "output_type": "stream",
     "text": [
      "0.44852886483447063\n",
      "0.9970966084660376\n",
      "1.0\n"
     ]
    }
   ],
   "source": [
    "with gauss.set_norm_range((-1e6, 1e6)):  # play around with different norm ranges\n",
    "# with gauss.set_norm_range((-100, 100)):\n",
    "    print(zfit.run(gauss.integrate((-0.6, 0.6))))\n",
    "    print(zfit.run(gauss.integrate((-3, 3))))\n",
    "    print(zfit.run(gauss.integrate((-100, 100))))"
   ]
  },
  {
   "cell_type": "markdown",
   "metadata": {},
   "source": [
    "*(remember the orders of magnitude: sigma of our Gaussian is 1, so 100 is far far away)*"
   ]
  },
  {
   "cell_type": "markdown",
   "metadata": {
    "inputHidden": false,
    "outputHidden": false
   },
   "source": [
    "The `FitResult` that we obtained contains information about the minimization and can now be used to calculate the errors"
   ]
  },
  {
   "cell_type": "code",
   "execution_count": 11,
   "metadata": {},
   "outputs": [
    {
     "name": "stdout",
     "output_type": "stream",
     "text": [
      "Function minimum: 14263.837531382726\n",
      "Converged: True\n",
      "Full minimizer information: {'n_eval': 54, 'original': {'fval': 14263.837531382726, 'edm': 1.0806842570716806e-05, 'nfcn': 54, 'up': 0.5, 'is_valid': True, 'has_valid_parameters': True, 'has_accurate_covar': True, 'has_posdef_covar': True, 'has_made_posdef_covar': False, 'hesse_failed': False, 'has_covariance': True, 'is_above_max_edm': False, 'has_reached_call_limit': False}}\n"
     ]
    }
   ],
   "source": [
    "print(\"Function minimum:\", minimum.fmin)\n",
    "print(\"Converged:\", minimum.converged)\n",
    "print(\"Full minimizer information:\", minimum.info)"
   ]
  },
  {
   "cell_type": "code",
   "execution_count": 12,
   "metadata": {},
   "outputs": [
    {
     "data": {
      "text/html": [
       "<span>Minos status for mu: <span style=\"background-color:#92CCA6\">VALID</span></span>\n",
       "<table>\n",
       "    <tr>\n",
       "        <td title=\"lower and upper minos error of the parameter\">Error</td>\n",
       "        <td>-0.010047383809611187</td>\n",
       "        <td>0.010102950798884446</td>\n",
       "    </tr>\n",
       "    <tr>\n",
       "        <td title=\"Validity of minos error\">Valid</td>\n",
       "        <td style=\"background-color:#92CCA6\">True</td>\n",
       "        <td style=\"background-color:#92CCA6\">True</td>\n",
       "    </tr>\n",
       "    <tr>\n",
       "        <td title=\"Did minos error search hit limit of any parameter?\">At Limit</td>\n",
       "        <td style=\"background-color:#92CCA6\">False</td>\n",
       "        <td style=\"background-color:#92CCA6\">False</td>\n",
       "    </tr>\n",
       "    <tr>\n",
       "        <td title=\"I don't really know what this one means... Post it in issue if you know\">Max FCN</td>\n",
       "        <td style=\"background-color:#92CCA6\">False</td>\n",
       "        <td style=\"background-color:#92CCA6\">False</td>\n",
       "    </tr>\n",
       "    <tr>\n",
       "        <td title=\"New minimum found when doing minos scan.\">New Min</td>\n",
       "        <td style=\"background-color:#92CCA6\">False</td>\n",
       "        <td style=\"background-color:#92CCA6\">False</td>\n",
       "    </tr>\n",
       "</table>"
      ]
     },
     "metadata": {},
     "output_type": "display_data"
    },
    {
     "data": {
      "text/html": [
       "<span>Minos status for sigma: <span style=\"background-color:#92CCA6\">VALID</span></span>\n",
       "<table>\n",
       "    <tr>\n",
       "        <td title=\"lower and upper minos error of the parameter\">Error</td>\n",
       "        <td>-0.007055577498034964</td>\n",
       "        <td>0.007192831564159465</td>\n",
       "    </tr>\n",
       "    <tr>\n",
       "        <td title=\"Validity of minos error\">Valid</td>\n",
       "        <td style=\"background-color:#92CCA6\">True</td>\n",
       "        <td style=\"background-color:#92CCA6\">True</td>\n",
       "    </tr>\n",
       "    <tr>\n",
       "        <td title=\"Did minos error search hit limit of any parameter?\">At Limit</td>\n",
       "        <td style=\"background-color:#92CCA6\">False</td>\n",
       "        <td style=\"background-color:#92CCA6\">False</td>\n",
       "    </tr>\n",
       "    <tr>\n",
       "        <td title=\"I don't really know what this one means... Post it in issue if you know\">Max FCN</td>\n",
       "        <td style=\"background-color:#92CCA6\">False</td>\n",
       "        <td style=\"background-color:#92CCA6\">False</td>\n",
       "    </tr>\n",
       "    <tr>\n",
       "        <td title=\"New minimum found when doing minos scan.\">New Min</td>\n",
       "        <td style=\"background-color:#92CCA6\">False</td>\n",
       "        <td style=\"background-color:#92CCA6\">False</td>\n",
       "    </tr>\n",
       "</table>"
      ]
     },
     "metadata": {},
     "output_type": "display_data"
    }
   ],
   "source": [
    "errors = minimum.error()"
   ]
  },
  {
   "cell_type": "code",
   "execution_count": 13,
   "metadata": {},
   "outputs": [
    {
     "name": "stdout",
     "output_type": "stream",
     "text": [
      "{'lower': -0.010047383809611187, 'upper': 0.010102950798884446, 'is_valid': True, 'lower_valid': True, 'upper_valid': True, 'at_lower_limit': False, 'at_upper_limit': False, 'at_lower_max_fcn': False, 'at_upper_max_fcn': False, 'lower_new_min': False, 'upper_new_min': False, 'nfcn': 12, 'min': -0.005261041794923704}\n"
     ]
    }
   ],
   "source": [
    "print(errors[mu])"
   ]
  },
  {
   "cell_type": "code",
   "execution_count": null,
   "metadata": {},
   "outputs": [],
   "source": []
  }
 ],
 "metadata": {
  "kernel_info": {
   "name": "zfit"
  },
  "kernelspec": {
   "display_name": "Python 3",
   "language": "python",
   "name": "python3"
  },
  "language_info": {
   "codemirror_mode": {
    "name": "ipython",
    "version": 3
   },
   "file_extension": ".py",
   "mimetype": "text/x-python",
   "name": "python",
   "nbconvert_exporter": "python",
   "pygments_lexer": "ipython3",
   "version": "3.6.8"
  },
  "nteract": {
   "version": "0.12.3"
  }
 },
 "nbformat": 4,
 "nbformat_minor": 4
}
