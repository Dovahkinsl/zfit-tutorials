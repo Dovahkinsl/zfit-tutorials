{
  "cells": [
    {
      "cell_type": "markdown",
      "source": [
        "# zfit — A simple introduction\n",
        "\n",
        "In this quick tutorial, we'll show the basic ideas on what you can do with `zfit`, without going into much detail or performing advanced tasks.\n",
        "\n",
        "First, we will perform the basic imports that we will use along most of the tutorials, and we'll check the `tensorflow` version.\n",
        "\n"
      ],
      "metadata": {
        "collapsed": false,
        "outputHidden": false,
        "inputHidden": false
      }
    },
    {
      "cell_type": "code",
      "source": [
        "import numpy as np\n",
        "import tensorflow as tf\n",
        "\n",
        "import zfit\n",
        "# Wrapper for some tensorflow functionality\n",
        "import zfit.ztf as ztf\n",
        "\n",
        "#assert tf.executing_eagerly() == False\n",
        "print(\"TensorFlow version:\", tf.__version__)"
      ],
      "outputs": [
        {
          "output_type": "stream",
          "name": "stdout",
          "text": [
            "TensorFlow version: 1.12.0\n"
          ]
        }
      ],
      "execution_count": 1,
      "metadata": {}
    },
    {
      "cell_type": "markdown",
      "source": [
        "## Create observables\n",
        "\nThe observable space in which PDFs are defined is created with the `Space` class,"
      ],
      "metadata": {
        "collapsed": false,
        "outputHidden": false,
        "inputHidden": false
      }
    },
    {
      "cell_type": "code",
      "source": [
        "obs = zfit.Space('x', limits=(-10, 10))"
      ],
      "outputs": [],
      "execution_count": 2,
      "metadata": {
        "collapsed": false,
        "outputHidden": false,
        "inputHidden": false
      }
    },
    {
      "cell_type": "markdown",
      "source": [
        "## Create data\n",
        "\nWe need to create some data using `numpy`."
      ],
      "metadata": {
        "collapsed": false,
        "outputHidden": false,
        "inputHidden": false
      }
    },
    {
      "cell_type": "code",
      "source": [
        "mu_true = 0.\n",
        "sigma_true = 1.\n",
        "data_np = np.random.normal(mu_true, sigma_true, size=10000)\n",
        "data = zfit.data.Data.from_numpy(obs=obs, array=data_np)"
      ],
      "outputs": [],
      "execution_count": 3,
      "metadata": {
        "collapsed": false,
        "outputHidden": false,
        "inputHidden": false
      }
    },
    {
      "cell_type": "markdown",
      "source": [
        "## Create a PDF to fit\n",
        "\n",
        "Now let's create a Gaussian PDF so we can fit the dataset. To do this, first we create the fit parameters, which follow a convention similar to `RooFit`:\n",
        "\n",
        "```\n",
        "zfit.Parameter(name, initial_value, lowr_limit (optional), upper_limit (optional), other options)\n",
        "```"
      ],
      "metadata": {
        "collapsed": false,
        "outputHidden": false,
        "inputHidden": false
      }
    },
    {
      "cell_type": "code",
      "source": [
        "mu = zfit.Parameter(\"mu\", 2.4, -1., 5.)\n",
        "sigma = zfit.Parameter(\"sigma\", 1.3, 0, 5.)"
      ],
      "outputs": [],
      "execution_count": 4,
      "metadata": {}
    },
    {
      "cell_type": "markdown",
      "source": [
        "Now we instantiate a Gaussian from the zfit PDF library (more on how to create your own PDFs later)"
      ],
      "metadata": {
        "collapsed": false,
        "outputHidden": false,
        "inputHidden": false
      }
    },
    {
      "cell_type": "code",
      "source": [
        "gauss = zfit.pdf.Normal(obs=obs, mu=mu, sigma=sigma)"
      ],
      "outputs": [],
      "execution_count": 5,
      "metadata": {}
    },
    {
      "cell_type": "markdown",
      "source": [
        "This object object contains all the functions you would expect from a PDF, such as calculating a probability, calculating its integral, etc.\n",
        "\n",
        "**NB**: Currently, one important caveat is that all `zfit` objects are based on `tensorflow`, and therefore they are graphs that are not executed immediately, but need to be run on a session:\n",
        "\n",
        "```python\n",
        "zfit.sess.run(tf.global_variables_initializer())  # This only needs to be done once, will be removed\n",
        "zfit.sess.run(object)\n",
        "```"
      ],
      "metadata": {
        "collapsed": false,
        "outputHidden": false,
        "inputHidden": false
      }
    },
    {
      "cell_type": "code",
      "source": [
        "zfit.sess.run(tf.global_variables_initializer())"
      ],
      "outputs": [],
      "execution_count": 6,
      "metadata": {
        "collapsed": false,
        "outputHidden": false,
        "inputHidden": false
      }
    },
    {
      "cell_type": "code",
      "source": [
        "# Now, get some probability values\n",
        "# The probs object is not executed yet\n",
        "consts = [-1, 0, 1]\n",
        "probs = gauss.pdf(ztf.constant(consts), norm_range=(-np.infty, np.infty))\n",
        "# And now execute the tensorflow graph\n",
        "result = zfit.sess.run(probs)\n",
        "print(\"x values: {}\\nresult:   {}\".format(consts, result))\n"
      ],
      "outputs": [
        {
          "output_type": "stream",
          "name": "stdout",
          "text": [
            "x values: [-1, 0, 1]\n",
            "result:   [[0.01003756 0.05582995 0.17184121]]\n"
          ]
        }
      ],
      "execution_count": 7,
      "metadata": {}
    },
    {
      "cell_type": "markdown",
      "source": [
        "## Fitting\n",
        "\n",
        "To fit, we need to take three steps (**to be fixed in the future**): create the negative $\\log\\mathcal{L}$, instantiate a minimiser and then minimise the likelihood. \n",
        "\n*Note*: IN this case, we don't need to execut the graph (we need to make this consistent)"
      ],
      "metadata": {
        "collapsed": false,
        "outputHidden": false,
        "inputHidden": false
      }
    },
    {
      "cell_type": "code",
      "source": [
        "# Create the negative log likelihood\n",
        "from zfit.core.loss import UnbinnedNLL\n",
        "nll = UnbinnedNLL(model=[gauss], data=[data], fit_range=[obs])\n",
        "# Load and instantiate a tensorflow minimiser\n",
        "from zfit.minimizers.minimizer_minuit import MinuitMinimizer\n",
        "minimizer = MinuitMinimizer(loss=nll)\n",
        "# Create the minimisation graph to minimise mu and sigma and run it (minimize does it directly)\n",
        "minimum = minimizer.minimize(params=[mu, sigma], sess=zfit.sess)\n",
        "# Get the fitted values, again by run the variable graphs\n",
        "params = minimum.get_parameters()\n",
        "print(\"mu={}\".format(params[mu.name]['value']))\n",
        "print(\"sigma={}\".format(params[sigma.name]['value']))"
      ],
      "outputs": [
        {
          "output_type": "stream",
          "name": "stderr",
          "text": [
            "/Users/albert/Arxiu/Fisica/LHCb/Projectes/zfit/zfit/zfit/minimizers/minimizer_minuit.py:65: InitialParamWarning: errordef is not given. Default to 1.\n",
            "  **error_limit_kwargs)\n"
          ]
        },
        {
          "output_type": "display_data",
          "data": {
            "text/html": [
              "<hr>"
            ]
          },
          "metadata": {}
        },
        {
          "output_type": "display_data",
          "data": {
            "text/html": [
              "<table>\n",
              "    <tr>\n",
              "        <td title=\"Minimum value of function\">FCN = 14241.770210865961</td>\n",
              "        <td title=\"Total number of call to FCN so far\">TOTAL NCALL = 62</td>\n",
              "        <td title=\"Number of call in last migrad\">NCALLS = 62</td>\n",
              "    </tr>\n",
              "    <tr>\n",
              "        <td title=\"Estimated distance to minimum\">EDM = 4.200370602213296e-05</td>\n",
              "        <td title=\"Maximum EDM definition of convergence\">GOAL EDM = 1e-05</td>\n",
              "        <td title=\"Error def. Amount of increase in FCN to be defined as 1 standard deviation\">\n",
              "        UP = 1.0</td>\n",
              "    </tr>\n",
              "</table>\n",
              "<table>\n",
              "    <tr>\n",
              "        <td align=\"center\" title=\"Validity of the migrad call\">Valid</td>\n",
              "        <td align=\"center\" title=\"Validity of parameters\">Valid Param</td>\n",
              "        <td align=\"center\" title=\"Is Covariance matrix accurate?\">Accurate Covar</td>\n",
              "        <td align=\"center\" title=\"Positive definiteness of covariance matrix\">PosDef</td>\n",
              "        <td align=\"center\" title=\"Was covariance matrix made posdef by adding diagonal element\">Made PosDef</td>\n",
              "    </tr>\n",
              "    <tr>\n",
              "        <td align=\"center\" style=\"background-color:#92CCA6\">True</td>\n",
              "        <td align=\"center\" style=\"background-color:#92CCA6\">True</td>\n",
              "        <td align=\"center\" style=\"background-color:#92CCA6\">True</td>\n",
              "        <td align=\"center\" style=\"background-color:#92CCA6\">True</td>\n",
              "        <td align=\"center\" style=\"background-color:#92CCA6\">False</td>\n",
              "    </tr>\n",
              "    <tr>\n",
              "        <td align=\"center\" title=\"Was last hesse call fail?\">Hesse Fail</td>\n",
              "        <td align=\"center\" title=\"Validity of covariance\">HasCov</td>\n",
              "        <td align=\"center\" title=\"Is EDM above goal EDM?\">Above EDM</td>\n",
              "        <td align=\"center\"></td>\n",
              "        <td align=\"center\" title=\"Did last migrad call reach max call limit?\">Reach calllim</td>\n",
              "    </tr>\n",
              "    <tr>\n",
              "        <td align=\"center\" style=\"background-color:#92CCA6\">False</td>\n",
              "        <td align=\"center\" style=\"background-color:#92CCA6\">True</td>\n",
              "        <td align=\"center\" style=\"background-color:#92CCA6\">False</td>\n",
              "        <td align=\"center\"></td>\n",
              "        <td align=\"center\" style=\"background-color:#92CCA6\">False</td>\n",
              "    </tr>\n",
              "</table>"
            ]
          },
          "metadata": {}
        },
        {
          "output_type": "display_data",
          "data": {
            "text/html": [
              "<table>\n",
              "    <tr>\n",
              "        <td><a href=\"#\" onclick=\"$('#QLmubMJfAH').toggle()\">+</a></td>\n",
              "        <td title=\"Variable name\">Name</td>\n",
              "        <td title=\"Value of parameter\">Value</td>\n",
              "        <td title=\"Hesse error\">Hesse Error</td>\n",
              "        <td title=\"Minos lower error\">Minos Error-</td>\n",
              "        <td title=\"Minos upper error\">Minos Error+</td>\n",
              "        <td title=\"Lower limit of the parameter\">Limit-</td>\n",
              "        <td title=\"Upper limit of the parameter\">Limit+</td>\n",
              "        <td title=\"Is the parameter fixed in the fit\">Fixed?</td>\n",
              "    </tr>\n",
              "    <tr>\n",
              "        <td>0</td>\n",
              "        <td>mu:0</td>\n",
              "        <td>0.000643385</td>\n",
              "        <td>0.0142165</td>\n",
              "        <td></td>\n",
              "        <td></td>\n",
              "        <td>-1</td>\n",
              "        <td>5</td>\n",
              "        <td>No</td>\n",
              "    </tr>\n",
              "    <tr>\n",
              "        <td>1</td>\n",
              "        <td>sigma:0</td>\n",
              "        <td>1.00525</td>\n",
              "        <td>0.0100523</td>\n",
              "        <td></td>\n",
              "        <td></td>\n",
              "        <td>0</td>\n",
              "        <td>5</td>\n",
              "        <td>No</td>\n",
              "    </tr>\n",
              "</table>\n",
              "<pre id=\"QLmubMJfAH\" style=\"display:none;\">\n",
              "<textarea rows=\"10\" cols=\"50\" onclick=\"this.select()\" readonly>\n",
              "\\begin{tabular}{|c|r|r|r|r|r|r|r|c|}\n",
              "\\hline\n",
              " & Name & Value & Hesse Error & Minos Error- & Minos Error+ & Limit- & Limit+ & Fixed?\\\\\n",
              "\\hline\n",
              "0 & mu:0 & 0.000643385 & 0.0142165 &  &  & -1.0 & 5 & No\\\\\n",
              "\\hline\n",
              "1 & sigma:0 & 1.00525 & 0.0100523 &  &  & 0.0 & 5 & No\\\\\n",
              "\\hline\n",
              "\\end{tabular}\n",
              "</textarea>\n",
              "</pre>"
            ]
          },
          "metadata": {}
        },
        {
          "output_type": "display_data",
          "data": {
            "text/html": [
              "<hr>"
            ]
          },
          "metadata": {}
        },
        {
          "output_type": "stream",
          "name": "stdout",
          "text": [
            "mu=0.0006433852294605025\n",
            "sigma=1.0052460164061572\n"
          ]
        }
      ],
      "execution_count": 8,
      "metadata": {
        "collapsed": false,
        "outputHidden": false,
        "inputHidden": false
      }
    },
    {
      "cell_type": "markdown",
      "source": [
        "And we can plot the result to see how it went.\n",
        "\n*TODO*: Make plotting easy (but not really integrated)"
      ],
      "metadata": {
        "collapsed": false,
        "outputHidden": false,
        "inputHidden": false
      }
    },
    {
      "cell_type": "code",
      "source": [
        "%matplotlib inline  "
      ],
      "outputs": [],
      "execution_count": 9,
      "metadata": {
        "collapsed": false,
        "outputHidden": false,
        "inputHidden": false
      }
    },
    {
      "cell_type": "code",
      "source": [
        "import matplotlib.pyplot as plt\n",
        "n_bins = 50\n",
        "range_ = (-5,5)\n",
        "_ = plt.hist(data_np, bins=n_bins, range=range_)\n",
        "x = np.linspace(*range_, num=1000)\n",
        "pdf = zfit.sess.run(gauss.pdf(x, norm_range=(-10, 10)))\n",
        "_ = plt.plot(x, data_np.shape[0]/n_bins*10.*pdf[0,:])"
      ],
      "outputs": [
        {
          "output_type": "display_data",
          "data": {
            "text/plain": [
              "<Figure size 432x288 with 1 Axes>"
            ],
            "image/png": "[encoded data removed]"
          },
          "metadata": {
            "needs_background": "light"
          }
        }
      ],
      "execution_count": 10,
      "metadata": {
        "collapsed": false,
        "outputHidden": false,
        "inputHidden": false
      }
    },
    {
      "cell_type": "markdown",
      "source": [
        "Here, we can see the power of the context managers used to change the normalisation range."
      ],
      "metadata": {
        "collapsed": false,
        "outputHidden": false,
        "inputHidden": false
      }
    },
    {
      "cell_type": "code",
      "source": [
        "#with gauss.set_norm_range((-1e6, 1e6)):  # This breaks\n",
        "with gauss.set_norm_range((-100, 100)):\n",
        "    print(zfit.sess.run(gauss.integrate((-0.6, 0.6))))\n",
        "    print(zfit.sess.run(gauss.integrate((-10, 10))))\n",
        "    print(zfit.sess.run(gauss.integrate((-100, 100))))"
      ],
      "outputs": [
        {
          "output_type": "stream",
          "name": "stdout",
          "text": [
            "[0.44940497]\n",
            "[1.]\n",
            "[1.]\n"
          ]
        }
      ],
      "execution_count": 12,
      "metadata": {
        "collapsed": false,
        "outputHidden": false,
        "inputHidden": false
      }
    }
  ],
  "metadata": {
    "kernel_info": {
      "name": "zfit"
    },
    "language_info": {
      "name": "python",
      "version": "3.6.5",
      "mimetype": "text/x-python",
      "codemirror_mode": {
        "name": "ipython",
        "version": 3
      },
      "pygments_lexer": "ipython3",
      "nbconvert_exporter": "python",
      "file_extension": ".py"
    },
    "kernelspec": {
      "name": "zfit",
      "language": "python",
      "display_name": "Python3 (zfit)"
    },
    "nteract": {
      "version": "0.12.3"
    }
  },
  "nbformat": 4,
  "nbformat_minor": 4
}