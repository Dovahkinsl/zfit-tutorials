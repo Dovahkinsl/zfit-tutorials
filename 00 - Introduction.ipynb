{
 "cells": [
  {
   "cell_type": "markdown",
   "metadata": {
    "inputHidden": false,
    "outputHidden": false
   },
   "source": [
    "# zfit — A simple introduction\n",
    "\n",
    "In this quick tutorial, we'll show the basic ideas on what you can do with `zfit`, without going into much detail or performing advanced tasks.\n",
    "\n",
    "First, we will perform the basic imports that we will use along most of the tutorials, and we'll check the `tensorflow` version.\n",
    "\n"
   ]
  },
  {
   "cell_type": "code",
   "execution_count": 1,
   "metadata": {},
   "outputs": [
    {
     "name": "stdout",
     "output_type": "stream",
     "text": [
      "TensorFlow version: 1.12.0\n"
     ]
    }
   ],
   "source": [
    "import numpy as np\n",
    "import tensorflow as tf\n",
    "\n",
    "import zfit\n",
    "# Wrapper for some tensorflow functionality\n",
    "from zfit import ztf\n",
    "print(\"TensorFlow version:\", tf.__version__)"
   ]
  },
  {
   "cell_type": "markdown",
   "metadata": {
    "inputHidden": false,
    "outputHidden": false
   },
   "source": [
    "## Create observables\n",
    "\n",
    "The observable space in which PDFs are defined is created with the `Space` class,"
   ]
  },
  {
   "cell_type": "code",
   "execution_count": 2,
   "metadata": {
    "inputHidden": false,
    "outputHidden": false
   },
   "outputs": [],
   "source": [
    "obs = zfit.Space('x', limits=(-10, 10))"
   ]
  },
  {
   "cell_type": "markdown",
   "metadata": {
    "inputHidden": false,
    "outputHidden": false
   },
   "source": [
    "## Create data\n",
    "\n",
    "We need to create some data using `numpy`."
   ]
  },
  {
   "cell_type": "code",
   "execution_count": 3,
   "metadata": {
    "inputHidden": false,
    "outputHidden": false
   },
   "outputs": [],
   "source": [
    "mu_true = 0.\n",
    "sigma_true = 1.\n",
    "data_np = np.random.normal(mu_true, sigma_true, size=10000)\n",
    "data = zfit.data.Data.from_numpy(obs=obs, array=data_np)"
   ]
  },
  {
   "cell_type": "markdown",
   "metadata": {
    "inputHidden": false,
    "outputHidden": false
   },
   "source": [
    "## Create a PDF to fit\n",
    "\n",
    "Now let's create a Gaussian PDF so we can fit the dataset. To do this, first we create the fit parameters, which follow a convention similar to `RooFit`:\n",
    "\n",
    "```\n",
    "zfit.Parameter(name, initial_value, lower_limit (optional), upper_limit (optional), other options)\n",
    "```"
   ]
  },
  {
   "cell_type": "code",
   "execution_count": 4,
   "metadata": {},
   "outputs": [],
   "source": [
    "mu = zfit.Parameter(\"mu\", 2.4, -1., 5.)\n",
    "sigma = zfit.Parameter(\"sigma\", 1.3, 0, 5.)"
   ]
  },
  {
   "cell_type": "markdown",
   "metadata": {
    "inputHidden": false,
    "outputHidden": false
   },
   "source": [
    "Now we instantiate a Gaussian from the zfit PDF library (more on how to create your own PDFs later)"
   ]
  },
  {
   "cell_type": "code",
   "execution_count": 5,
   "metadata": {},
   "outputs": [],
   "source": [
    "gauss = zfit.pdf.Gauss(obs=obs, mu=mu, sigma=sigma)"
   ]
  },
  {
   "cell_type": "markdown",
   "metadata": {
    "inputHidden": false,
    "outputHidden": false
   },
   "source": [
    "This object object contains all the functions you would expect from a PDF, such as calculating a probability, calculating its integral, etc.\n",
    "\n",
    "**NB**: Currently, one important caveat is that all `zfit` objects are based on `tensorflow`, and therefore they are graphs that are not executed immediately, but need to be run on a session:\n",
    "\n",
    "```python\n",
    "zfit.run(TensorFlow_object)\n",
    "```"
   ]
  },
  {
   "cell_type": "code",
   "execution_count": 6,
   "metadata": {},
   "outputs": [
    {
     "name": "stdout",
     "output_type": "stream",
     "text": [
      "x values: [-1, 0, 1]\n",
      "result:   [0.01003756 0.05582995 0.17184121]\n"
     ]
    }
   ],
   "source": [
    "# Now, get some probability values\n",
    "# The probs object is not executed yet\n",
    "consts = [-1, 0, 1]\n",
    "probs = gauss.pdf(ztf.constant(consts), norm_range=(-np.infty, np.infty))\n",
    "# And now execute the tensorflow graph\n",
    "result = zfit.run(probs)\n",
    "print(\"x values: {}\\nresult:   {}\".format(consts, result))"
   ]
  },
  {
   "cell_type": "markdown",
   "metadata": {
    "inputHidden": false,
    "outputHidden": false
   },
   "source": [
    "## Fitting\n",
    "\n",
    "To fit, we need to take three steps (**to be fixed in the future**): create the negative $\\log\\mathcal{L}$, instantiate a minimizer and then minimize the likelihood. \n",
    "\n",
    "*Note*: IN this case, we don't need to execut the graph (we need to make this consistent)"
   ]
  },
  {
   "cell_type": "code",
   "execution_count": 7,
   "metadata": {
    "inputHidden": false,
    "outputHidden": false
   },
   "outputs": [
    {
     "name": "stderr",
     "output_type": "stream",
     "text": [
      "/home/jonas/Documents/physics/software/zfit_project/zfit_repo/zfit/minimizers/minimizer_minuit.py:69: InitialParamWarning: errordef is not given. Default to 1.\n",
      "  **error_limit_kwargs)\n"
     ]
    },
    {
     "data": {
      "text/html": [
       "<hr>"
      ]
     },
     "metadata": {},
     "output_type": "display_data"
    },
    {
     "data": {
      "text/html": [
       "<table>\n",
       "    <tr>\n",
       "        <td title=\"Minimum value of function\">FCN = 14090.896762543465</td>\n",
       "        <td title=\"Total number of call to FCN so far\">TOTAL NCALL = 62</td>\n",
       "        <td title=\"Number of call in last migrad\">NCALLS = 62</td>\n",
       "    </tr>\n",
       "    <tr>\n",
       "        <td title=\"Estimated distance to minimum\">EDM = 7.109036213119718e-05</td>\n",
       "        <td title=\"Maximum EDM definition of convergence\">GOAL EDM = 1e-05</td>\n",
       "        <td title=\"Error def. Amount of increase in FCN to be defined as 1 standard deviation\">\n",
       "        UP = 1.0</td>\n",
       "    </tr>\n",
       "</table>\n",
       "<table>\n",
       "    <tr>\n",
       "        <td align=\"center\" title=\"Validity of the migrad call\">Valid</td>\n",
       "        <td align=\"center\" title=\"Validity of parameters\">Valid Param</td>\n",
       "        <td align=\"center\" title=\"Is Covariance matrix accurate?\">Accurate Covar</td>\n",
       "        <td align=\"center\" title=\"Positive definiteness of covariance matrix\">PosDef</td>\n",
       "        <td align=\"center\" title=\"Was covariance matrix made posdef by adding diagonal element\">Made PosDef</td>\n",
       "    </tr>\n",
       "    <tr>\n",
       "        <td align=\"center\" style=\"background-color:#92CCA6\">True</td>\n",
       "        <td align=\"center\" style=\"background-color:#92CCA6\">True</td>\n",
       "        <td align=\"center\" style=\"background-color:#92CCA6\">True</td>\n",
       "        <td align=\"center\" style=\"background-color:#92CCA6\">True</td>\n",
       "        <td align=\"center\" style=\"background-color:#92CCA6\">False</td>\n",
       "    </tr>\n",
       "    <tr>\n",
       "        <td align=\"center\" title=\"Was last hesse call fail?\">Hesse Fail</td>\n",
       "        <td align=\"center\" title=\"Validity of covariance\">HasCov</td>\n",
       "        <td align=\"center\" title=\"Is EDM above goal EDM?\">Above EDM</td>\n",
       "        <td align=\"center\"></td>\n",
       "        <td align=\"center\" title=\"Did last migrad call reach max call limit?\">Reach calllim</td>\n",
       "    </tr>\n",
       "    <tr>\n",
       "        <td align=\"center\" style=\"background-color:#92CCA6\">False</td>\n",
       "        <td align=\"center\" style=\"background-color:#92CCA6\">True</td>\n",
       "        <td align=\"center\" style=\"background-color:#92CCA6\">False</td>\n",
       "        <td align=\"center\"></td>\n",
       "        <td align=\"center\" style=\"background-color:#92CCA6\">False</td>\n",
       "    </tr>\n",
       "</table>"
      ]
     },
     "metadata": {},
     "output_type": "display_data"
    },
    {
     "data": {
      "text/html": [
       "<table>\n",
       "    <tr>\n",
       "        <td><a href=\"#\" onclick=\"$('#YtPZJGFJtz').toggle()\">+</a></td>\n",
       "        <td title=\"Variable name\">Name</td>\n",
       "        <td title=\"Value of parameter\">Value</td>\n",
       "        <td title=\"Hesse error\">Hesse Error</td>\n",
       "        <td title=\"Minos lower error\">Minos Error-</td>\n",
       "        <td title=\"Minos upper error\">Minos Error+</td>\n",
       "        <td title=\"Lower limit of the parameter\">Limit-</td>\n",
       "        <td title=\"Upper limit of the parameter\">Limit+</td>\n",
       "        <td title=\"Is the parameter fixed in the fit\">Fixed?</td>\n",
       "    </tr>\n",
       "    <tr>\n",
       "        <td>0</td>\n",
       "        <td>mu:0</td>\n",
       "        <td>-0.00320947</td>\n",
       "        <td>0.0140036</td>\n",
       "        <td></td>\n",
       "        <td></td>\n",
       "        <td>-1</td>\n",
       "        <td>5</td>\n",
       "        <td>No</td>\n",
       "    </tr>\n",
       "    <tr>\n",
       "        <td>1</td>\n",
       "        <td>sigma:0</td>\n",
       "        <td>0.990186</td>\n",
       "        <td>0.00990165</td>\n",
       "        <td></td>\n",
       "        <td></td>\n",
       "        <td>0</td>\n",
       "        <td>5</td>\n",
       "        <td>No</td>\n",
       "    </tr>\n",
       "</table>\n",
       "<pre id=\"YtPZJGFJtz\" style=\"display:none;\">\n",
       "<textarea rows=\"10\" cols=\"50\" onclick=\"this.select()\" readonly>\n",
       "\\begin{tabular}{|c|r|r|r|r|r|r|r|c|}\n",
       "\\hline\n",
       " & Name & Value & Hesse Error & Minos Error- & Minos Error+ & Limit- & Limit+ & Fixed?\\\\\n",
       "\\hline\n",
       "0 & mu:0 & -0.00320947 & 0.0140036 &  &  & -1.0 & 5 & No\\\\\n",
       "\\hline\n",
       "1 & sigma:0 & 0.990186 & 0.00990165 &  &  & 0.0 & 5 & No\\\\\n",
       "\\hline\n",
       "\\end{tabular}\n",
       "</textarea>\n",
       "</pre>"
      ]
     },
     "metadata": {},
     "output_type": "display_data"
    },
    {
     "data": {
      "text/html": [
       "<hr>"
      ]
     },
     "metadata": {},
     "output_type": "display_data"
    },
    {
     "name": "stdout",
     "output_type": "stream",
     "text": [
      "mu=-0.003209468747102262\n",
      "sigma=0.9901864543172003\n"
     ]
    }
   ],
   "source": [
    "# Create the negative log likelihood\n",
    "from zfit.core.loss import UnbinnedNLL\n",
    "\n",
    "nll = UnbinnedNLL(model=[gauss], data=[data], fit_range=[obs])\n",
    "\n",
    "# Load and instantiate a tensorflow minimizer\n",
    "from zfit.minimizers.minimizer_minuit import MinuitMinimizer\n",
    "minimizer = MinuitMinimizer()\n",
    "\n",
    "# Create the minimization graph to minimize mu and sigma and run it (minimize does it directly)\n",
    "minimum = minimizer.minimize(loss=nll, params=[mu, sigma])\n",
    "\n",
    "# Get the fitted values, again by run the variable graphs\n",
    "params = minimum.params\n",
    "\n",
    "print(\"mu={}\".format(params[mu]['value']))\n",
    "print(\"sigma={}\".format(params[sigma]['value']))"
   ]
  },
  {
   "cell_type": "markdown",
   "metadata": {
    "inputHidden": false,
    "outputHidden": false
   },
   "source": [
    "And we can plot the result to see how it went.\n",
    "\n",
    "*TODO*: Make plotting easy (but not really integrated)"
   ]
  },
  {
   "cell_type": "code",
   "execution_count": 8,
   "metadata": {
    "inputHidden": false,
    "outputHidden": false
   },
   "outputs": [],
   "source": [
    "%matplotlib inline  "
   ]
  },
  {
   "cell_type": "code",
   "execution_count": 10,
   "metadata": {
    "inputHidden": false,
    "outputHidden": false
   },
   "outputs": [
    {
     "data": {
      "image/png": "[encoded data removed]",
      "text/plain": [
       "<Figure size 432x288 with 1 Axes>"
      ]
     },
     "metadata": {
      "needs_background": "light"
     },
     "output_type": "display_data"
    }
   ],
   "source": [
    "import matplotlib.pyplot as plt\n",
    "n_bins = 50\n",
    "range_ = (-5,5)\n",
    "_ = plt.hist(data_np, bins=n_bins, range=range_)\n",
    "x = np.linspace(*range_, num=1000)\n",
    "pdf = zfit.run(gauss.pdf(x, norm_range=(-10, 10)))\n",
    "_ = plt.plot(x, data_np.shape[0]/n_bins*10.*pdf)"
   ]
  },
  {
   "cell_type": "markdown",
   "metadata": {
    "inputHidden": false,
    "outputHidden": false
   },
   "source": [
    "Here, we can see the power of the context managers used to change the normalisation range."
   ]
  },
  {
   "cell_type": "code",
   "execution_count": 11,
   "metadata": {
    "inputHidden": false,
    "outputHidden": false
   },
   "outputs": [
    {
     "name": "stdout",
     "output_type": "stream",
     "text": [
      "[0.45544761]\n",
      "[0.99755217]\n",
      "[1.]\n"
     ]
    }
   ],
   "source": [
    "with gauss.set_norm_range((-1e6, 1e6)):  # play around with different norm ranges\n",
    "# with gauss.set_norm_range((-100, 100)):\n",
    "    print(zfit.run(gauss.integrate((-0.6, 0.6))))\n",
    "    print(zfit.run(gauss.integrate((-3, 3))))\n",
    "    print(zfit.run(gauss.integrate((-100, 100))))"
   ]
  },
  {
   "cell_type": "markdown",
   "metadata": {},
   "source": [
    "*(remember the orders of magnitude: sigma of our Gaussian is 1, so 100 is far far away)*"
   ]
  },
  {
   "cell_type": "raw",
   "metadata": {
    "inputHidden": false,
    "outputHidden": false
   },
   "source": []
  },
  {
   "cell_type": "code",
   "execution_count": null,
   "metadata": {},
   "outputs": [],
   "source": []
  }
 ],
 "metadata": {
  "kernel_info": {
   "name": "zfit"
  },
  "kernelspec": {
   "display_name": "Python 3",
   "language": "python",
   "name": "python3"
  },
  "language_info": {
   "codemirror_mode": {
    "name": "ipython",
    "version": 3
   },
   "file_extension": ".py",
   "mimetype": "text/x-python",
   "name": "python",
   "nbconvert_exporter": "python",
   "pygments_lexer": "ipython3",
   "version": "3.6.8"
  },
  "nteract": {
   "version": "0.12.3"
  }
 },
 "nbformat": 4,
 "nbformat_minor": 4
}
